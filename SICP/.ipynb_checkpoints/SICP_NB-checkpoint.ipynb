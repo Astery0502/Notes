{
 "cells": [
  {
   "cell_type": "markdown",
   "id": "8d9511d3-5c7d-42ae-92db-9900635f423a",
   "metadata": {},
   "source": [
    "# Interactive Jupyter Notebook for SICP"
   ]
  },
  {
   "cell_type": "markdown",
   "id": "7f5bea84-be20-4183-8203-4ffc9b31e2ea",
   "metadata": {},
   "source": [
    "## Chapter 1: Functions"
   ]
  },
  {
   "cell_type": "markdown",
   "id": "5ac8f256-db50-418c-a0b1-bd196c84bca4",
   "metadata": {},
   "source": [
    "### General Functions"
   ]
  },
  {
   "cell_type": "code",
   "execution_count": 1,
   "id": "5a24f738-4cc1-435e-a585-120dceb148dc",
   "metadata": {},
   "outputs": [],
   "source": [
    "def iter_improve(update, test, guess=1):\n",
    "    while not test(guess):\n",
    "        guess = update(guess)\n",
    "    return guess"
   ]
  },
  {
   "cell_type": "code",
   "execution_count": 10,
   "id": "79ee2886-f83e-4d48-be2d-bb23ca3121ab",
   "metadata": {},
   "outputs": [],
   "source": [
    "# components of the update and test functions called by iter_improve\n",
    "def near(x,f,g):\n",
    "    return approx_eq(f(x), g(x))\n",
    "\n",
    "def approx_eq(x, y, tolerance=1e-5):\n",
    "    return abs(x-y) < tolerance\n",
    "\n",
    "def golden_update(guess):\n",
    "    return 1/guess + 1\n",
    "\n",
    "def golden_test(guess):\n",
    "    return near(guess, square, successor)\n",
    "\n",
    "def square(x):\n",
    "    return x * x\n",
    "\n",
    "def successor(x):\n",
    "    return x + 1"
   ]
  },
  {
   "cell_type": "code",
   "execution_count": 12,
   "id": "a41e2b76-005e-476e-bd27-b4c0f123fc8b",
   "metadata": {},
   "outputs": [],
   "source": [
    "phi = 1/2 + pow(5, 1/2)\n",
    "def near_test():\n",
    "    assert near(phi, square, successor), 'phi * phi is not near phi + 1'\n",
    "\n",
    "def iter_improve_test():\n",
    "    approx_phi = iter_improve(golden_update, golden_test)\n",
    "    assert approx_eq(phi, approx_phi), 'phi differs from its approximation'"
   ]
  },
  {
   "cell_type": "code",
   "execution_count": 14,
   "id": "4b62417d-27d9-4845-9607-c69894f033ab",
   "metadata": {},
   "outputs": [],
   "source": [
    "approx_phi = iter_improve(golden_update, golden_test)\n",
    "near_appro = abs(approx_phi - phi)\n",
    "near_delta = abs(square(phi)-successor(phi))"
   ]
  },
  {
   "cell_type": "markdown",
   "id": "21cb8eee-d488-4b8b-a47e-b748b02845c4",
   "metadata": {},
   "source": [
    "### Nested Functions"
   ]
  },
  {
   "cell_type": "code",
   "execution_count": 19,
   "id": "8fdc884e-6e0c-4689-ba8f-c3fda1894caa",
   "metadata": {},
   "outputs": [],
   "source": [
    "def square_root(x):\n",
    "    \n",
    "    def update(guess):\n",
    "        return (guess+x/guess)/2\n",
    "    \n",
    "    def test(guess):\n",
    "        return approx_eq(pow(guess,2), x)\n",
    "    \n",
    "    return iter_improve(update, test)"
   ]
  },
  {
   "cell_type": "markdown",
   "id": "f99ad58c-8278-4f82-9fd1-9a559636ca4f",
   "metadata": {},
   "source": [
    "### Functions as returned values"
   ]
  },
  {
   "cell_type": "code",
   "execution_count": null,
   "id": "70e754ef-608e-4ccd-b910-7f4d259be984",
   "metadata": {},
   "outputs": [],
   "source": [
    "def compose1(f,g):\n",
    "    def h(x):\n",
    "        return f(g(x))\n",
    "    return h"
   ]
  },
  {
   "cell_type": "markdown",
   "id": "2df4b375-8646-4f78-a5f0-ee1a1b169f73",
   "metadata": {},
   "source": [
    "### lambda expressions"
   ]
  },
  {
   "cell_type": "code",
   "execution_count": 28,
   "id": "6e7515be-d167-4cf2-85ec-2af600489fff",
   "metadata": {},
   "outputs": [],
   "source": [
    "h = lambda f,g: lambda x: f(g(x))\n",
    "# lambda expressions evaluates to the function which has single return of its body."
   ]
  },
  {
   "cell_type": "markdown",
   "id": "bda7bd56-cef2-4944-882b-2154df53476b",
   "metadata": {},
   "source": [
    "### Newton's method"
   ]
  },
  {
   "cell_type": "code",
   "execution_count": 43,
   "id": "acc63852-33f6-449f-8301-1c39ec157ddc",
   "metadata": {},
   "outputs": [],
   "source": [
    "def square(x):\n",
    "    return x*x\n",
    "\n",
    "def square_root(a):\n",
    "    return find_root(lambda x: square(x) - a)\n",
    "\n",
    "def logarithm(a, base=2):\n",
    "    return find_root(lambda x: pow(base, x) - a)\n",
    "\n",
    "def approx_derivative(f, x, delta=1e-5):\n",
    "    df = f(x+delta) - f(x)\n",
    "    return df/delta\n",
    "\n",
    "def newton_update(f):\n",
    "    def update(x):\n",
    "        return x - f(x)/approx_derivative(f,x)\n",
    "    return update\n",
    "\n",
    "def find_root(f, initial_guess=10):\n",
    "    def test(x):\n",
    "        return approx_eq(f(x),0)\n",
    "    return iter_improve(newton_update(f), test, initial_guess)"
   ]
  },
  {
   "cell_type": "markdown",
   "id": "d51adf64-4787-4129-a81b-9bccee26b525",
   "metadata": {},
   "source": [
    "## Chapter 2: Object"
   ]
  },
  {
   "cell_type": "markdown",
   "id": "71e0406c-078d-4765-befb-353b7a4a4e20",
   "metadata": {},
   "source": [
    "### example"
   ]
  },
  {
   "cell_type": "code",
   "execution_count": 51,
   "id": "3c9a5af2-a43f-4938-b7cd-738995bac8cf",
   "metadata": {},
   "outputs": [
    {
     "data": {
      "text/plain": [
       "'Tuesday, January 18'"
      ]
     },
     "execution_count": 51,
     "metadata": {},
     "output_type": "execute_result"
    }
   ],
   "source": [
    "from datetime import date\n",
    "today = date(2022,1,18)\n",
    "today.year\n",
    "today.strftime('%A, %B %d')"
   ]
  },
  {
   "cell_type": "markdown",
   "id": "143fddf2-4b7d-4a8c-be5b-e42ad27e84ab",
   "metadata": {},
   "source": [
    "### tuples as example"
   ]
  },
  {
   "cell_type": "code",
   "execution_count": 58,
   "id": "84abbc09-4153-450c-ab30-0bab01ce5a36",
   "metadata": {},
   "outputs": [],
   "source": [
    "from operator import getitem\n",
    "\n",
    "# selector, getitem uses 0-indexed \n",
    "def numer(x):\n",
    "    return getitem(x, 0)\n",
    "def denom(x):\n",
    "    return getitem(x, 1)\n",
    "\n",
    "# constructor\n",
    "def make_rat(n,d):\n",
    "    return (n,d)\n",
    "\n",
    "# print the rat from the abstract python type\n",
    "def str_rat(x):\n",
    "    \"\"\" Return a string 'n/d' for numerator n and denominator d \"\"\"\n",
    "    return '{0}/{1}'.format(numer(x), denom(x))\n",
    "\n",
    "# operation functions on the abstract rat\n",
    "def mul_rat(x,y):\n",
    "    return (numer(x)*numer(y), denom(x)*denom(y))"
   ]
  },
  {
   "cell_type": "code",
   "execution_count": null,
   "id": "b36e2a4d-2dd6-4891-8d30-3c65b2f5a9ba",
   "metadata": {},
   "outputs": [],
   "source": [
    "# re-implement of tuple\n",
    "# behavior: if p is constructed of x and y, then 0 index gets x, 1 index gets y\n",
    "\n",
    "def make_pari(x,y):\n",
    "    \"\"\" Returns a value that behaves like pairs \"\"\"\n",
    "    def dispatch(m):\n",
    "        if m == 0:\n",
    "            return x\n",
    "        elif m == 1:\n",
    "            return y\n",
    "    return dispatch\n",
    "\n",
    "def getitem_pair(p, i):\n",
    "    \"\"\" Return the element at index i of pair p\"\"\"\n",
    "    return p(i)"
   ]
  },
  {
   "cell_type": "markdown",
   "id": "47608578-e854-4e0c-aed0-118b52994b2a",
   "metadata": {},
   "source": [
    "## Sequences"
   ]
  },
  {
   "cell_type": "markdown",
   "id": "51a096c0-54c9-4c5f-9771-973cfcaeb23b",
   "metadata": {},
   "source": [
    "### Nested Lists"
   ]
  },
  {
   "cell_type": "markdown",
   "id": "daff3606-5fe4-4d5e-944a-42b3a986cf62",
   "metadata": {},
   "source": [
    "### Recursive Lists"
   ]
  },
  {
   "cell_type": "code",
   "execution_count": null,
   "id": "6daab0c1-d3ed-4609-b0f0-15f02cc2df68",
   "metadata": {},
   "outputs": [],
   "source": [
    "# constructor\n",
    "def make_rlist(first, rest):\n",
    "    # make a recursive list from its first and rest \n",
    "    return (first, rest)\n",
    "\n",
    "# selector\n",
    "def first(s):\n",
    "    return s[0]\n",
    "def rest(s):\n",
    "    return s[1]\n",
    "\n",
    "# to implement the sequences abstraction\n",
    "def len_rlist(s):\n",
    "    length = 0\n",
    "    while s!= empty_rlist:\n",
    "        s, length = rest(s), length+1\n",
    "    return length\n",
    "\n",
    "def getitem_rlist(s, j):\n",
    "    while j > 0:\n",
    "        s, j = rest(j), j-1\n",
    "    return first(s)"
   ]
  },
  {
   "cell_type": "markdown",
   "id": "d31617df-8cf7-49e5-9484-d52fe67c8438",
   "metadata": {},
   "source": [
    "### tuples II"
   ]
  },
  {
   "cell_type": "code",
   "execution_count": 62,
   "id": "49fa18c0-47b0-4663-a09f-607ef85de476",
   "metadata": {},
   "outputs": [
    {
     "data": {
      "text/plain": [
       "(1, 2, 3)"
      ]
     },
     "execution_count": 62,
     "metadata": {},
     "output_type": "execute_result"
    }
   ],
   "source": [
    "tuple1 = [1,2,3]\n",
    "abs_tuple1 = map(abs, tuple1)\n",
    "tuple(abs_tuple1)"
   ]
  },
  {
   "cell_type": "markdown",
   "id": "17ccc862-4aa2-4138-89db-eb7dcc7c6ac8",
   "metadata": {
    "jupyter": {
     "outputs_hidden": true
    },
    "tags": []
   },
   "source": [
    "### Sequence iteration"
   ]
  },
  {
   "cell_type": "code",
   "execution_count": 5,
   "id": "7b65707f-5b5d-4d63-93fc-4024391471c4",
   "metadata": {},
   "outputs": [
    {
     "name": "stdout",
     "output_type": "stream",
     "text": [
      "3\n"
     ]
    }
   ],
   "source": [
    "# sequence unpacking in iterables\n",
    "tp1 = ((1,2),(2,4),(3,4))\n",
    "diff_count = 0\n",
    "for x, y in tp1:\n",
    "    if x != y:\n",
    "        diff_count += 1\n",
    "print(diff_count)"
   ]
  },
  {
   "cell_type": "markdown",
   "id": "cefb3a6c-72df-4b10-a9a7-44527bff1d6e",
   "metadata": {},
   "source": [
    "### Conventional Interfaces"
   ]
  },
  {
   "cell_type": "code",
   "execution_count": null,
   "id": "ddd71d64-d00d-4313-a7c2-6f154352b39d",
   "metadata": {},
   "outputs": [],
   "source": [
    "# use map and filter and compound functions bundle together the pipeline"
   ]
  },
  {
   "cell_type": "code",
   "execution_count": 20,
   "id": "58151693-7351-4f82-bde8-9e9ceb12f878",
   "metadata": {},
   "outputs": [],
   "source": [
    "# Fibonacci generator:\n",
    "def fibonacci_gen(n):\n",
    "    \"\"\" return n length fibonacci numbers\"\"\"\n",
    "    fbnc = [0]*n\n",
    "    valuei = 0\n",
    "    valuei1 = 1\n",
    "    fbnc[0] = valuei\n",
    "    fbnc[1] = valuei1\n",
    "    for i in range(n-2):\n",
    "        valuei, valuei1 = valuei1, valuei+valuei1\n",
    "        fbnc[i+2] = valuei1\n",
    "    return fbnc\n",
    "\n",
    "def iseven(n):\n",
    "    return n % 2 == 0"
   ]
  },
  {
   "cell_type": "code",
   "execution_count": 25,
   "id": "2ac3667c-42d7-4190-9995-a3973f43c927",
   "metadata": {},
   "outputs": [
    {
     "data": {
      "text/plain": [
       "44"
      ]
     },
     "execution_count": 25,
     "metadata": {},
     "output_type": "execute_result"
    }
   ],
   "source": [
    "sum(tuple(filter(iseven, fibonacci_gen(10))))"
   ]
  }
 ],
 "metadata": {
  "kernelspec": {
   "display_name": "Python 3 (ipykernel)",
   "language": "python",
   "name": "python3"
  },
  "language_info": {
   "codemirror_mode": {
    "name": "ipython",
    "version": 3
   },
   "file_extension": ".py",
   "mimetype": "text/x-python",
   "name": "python",
   "nbconvert_exporter": "python",
   "pygments_lexer": "ipython3",
   "version": "3.9.5"
  },
  "toc-autonumbering": false,
  "toc-showcode": false,
  "toc-showmarkdowntxt": false,
  "toc-showtags": false
 },
 "nbformat": 4,
 "nbformat_minor": 5
}
